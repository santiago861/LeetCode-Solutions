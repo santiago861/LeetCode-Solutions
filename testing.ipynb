{
 "cells": [
  {
   "cell_type": "code",
   "execution_count": 1,
   "metadata": {},
   "outputs": [
    {
     "name": "stdout",
     "output_type": "stream",
     "text": [
      "[1, 2, 3, 4, 5, 6, 12, 34, 2132]\n"
     ]
    }
   ],
   "source": [
    "arr1 = [2, 34, 2132, 12]\n",
    "arr2 = [1, 3, 4, 5, 6, 2]\n",
    "\n",
    "sorrd = sorted(arr1 + arr2)\n",
    "print(sorrd)"
   ]
  }
 ],
 "metadata": {
  "kernelspec": {
   "display_name": "base",
   "language": "python",
   "name": "python3"
  },
  "language_info": {
   "name": "python",
   "version": "3.12.7"
  }
 },
 "nbformat": 4,
 "nbformat_minor": 2
}
